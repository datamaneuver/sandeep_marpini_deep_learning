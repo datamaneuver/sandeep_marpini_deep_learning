{
 "cells": [
  {
   "cell_type": "markdown",
   "metadata": {},
   "source": [
    "## Predict the Value of MPG for given displacement and #Cylinders\n",
    "## Using Neural Networks With Numpy"
   ]
  },
  {
   "cell_type": "markdown",
   "metadata": {},
   "source": [
    "## Neural Network Architecture\n",
    "\n",
    "\n",
    "**Number of Neurons:** 4\n",
    "\n",
    "   Input layer-2\n",
    "\n",
    "   Hidden layer-3\n",
    "\n",
    "   Output layer-1\n",
    " \n",
    "\n",
    "**Activation function:**  tanh (Input and Hidden)\n",
    "\n",
    "**Weight initialization type** - Random init\n",
    "\n",
    "**Bias:**  No bias taken as there is only one hidden layer and number of inputs are less.\n",
    "\n",
    "**Back propogation:** Gradient descent.\n",
    "\n",
    "**Epochs:** 1000"
   ]
  },
  {
   "cell_type": "code",
   "execution_count": 53,
   "metadata": {},
   "outputs": [],
   "source": [
    "import numpy as np\n",
    "import random"
   ]
  },
  {
   "cell_type": "markdown",
   "metadata": {},
   "source": [
    "### Data Generation and Normalization"
   ]
  },
  {
   "cell_type": "code",
   "execution_count": 103,
   "metadata": {},
   "outputs": [],
   "source": [
    "# X = (cylinders, displacement), y = score on test\n",
    "cars_x = np.array(([6,160.0], [4,108.0], [3,168.0],[8,318],[8,304]), dtype=float) # input data as float for calculations\n",
    "y = np.array(([21.0], [22.8], [21.4],[15.5],[15.2]), dtype=float) # output data as float for calcualtions\n",
    "\n",
    "# Normalization\n",
    "cars_x = cars_x/np.amax(cars_x, axis=0) # scaling input data\n",
    "y = y/np.max(y) # scaling output data\n",
    "\n",
    "# split data\n",
    "X = np.split(cars_x, [5])[0] # training data\n",
    "xPredicted = np.split(cars_x, [5])[1] # testing data"
   ]
  },
  {
   "cell_type": "markdown",
   "metadata": {},
   "source": [
    "## Neural Network Class"
   ]
  },
  {
   "cell_type": "code",
   "execution_count": 104,
   "metadata": {},
   "outputs": [],
   "source": [
    "\n",
    "class Neural_Network():\n",
    "\n",
    "#function for forwrd pass and backward pass\n",
    "  def train(self, X, y):\n",
    "        o = self.forward(X)\n",
    "        self.backward(X, y, o)\n",
    "\n",
    "    \n",
    "  def __init__(self):\n",
    "#number of neurons in each layer\n",
    "    self.inputSize = 2\n",
    "    self.outputSize = 1\n",
    "    self.hiddenSize = 3\n",
    "\n",
    "#weights attached between layers\n",
    "\n",
    "# (3x2) weight matrix from input to hidden layer\n",
    "    self.W1 = np.random.randn(self.inputSize, self.hiddenSize)\n",
    "# (3x1) weight matrix from hidden to output layer    \n",
    "    self.W2 = np.random.randn(self.hiddenSize, self.outputSize) \n",
    "\n",
    "#forward propagation through our network   \n",
    "\n",
    "#Matrix multiplications using dot product function\n",
    "\n",
    "  def forward(self, X):\n",
    "    \n",
    "    self.z = np.dot(X, self.W1) \n",
    "    self.z2 = self.tanh(self.z) # activation function for neurons to fire output to hidden layer\n",
    "    self.z3 = np.dot(self.z2, self.W2) \n",
    "    o = self.tanh(self.z3) # final activation function for neurons to fire output to output layer\n",
    "    return o #output\n",
    "\n",
    "# activation function for neuron firing\n",
    "  def tanh(self,s):\n",
    "    return np.tanh(s)\n",
    "\n",
    "#tanh_backward is function to find derivative, which helps in building GD algorithm in the end for back propagation\n",
    "  def tanh_backward(self, s): \n",
    "    return (1-np.square(s))\n",
    "\n",
    "# Backward propagation through the network to correct the weights\n",
    "  def backward(self, X, y, o):\n",
    "    \n",
    "    self.o_error = y - o # error in output, differene in actual and predicted\n",
    "    self.o_delta = self.o_error*self.tanh_backward(o) # applying derivative of sigmoid to error\n",
    "\n",
    "    self.z2_error = self.o_delta.dot(self.W2.T) # z2 error: how much our hidden layer weights contributed to output error\n",
    "    self.z2_delta = self.z2_error*self.tanh_backward(self.z2) # applying derivative of sigmoid to z2 error\n",
    "\n",
    "#adjusting weights\n",
    "    self.W1 += X.T.dot(self.z2_delta) \n",
    "    self.W2 += self.z2.T.dot(self.o_delta)\n",
    "    "
   ]
  },
  {
   "cell_type": "markdown",
   "metadata": {},
   "source": [
    "## Calculate the Results "
   ]
  },
  {
   "cell_type": "code",
   "execution_count": 106,
   "metadata": {},
   "outputs": [
    {
     "name": "stdout",
     "output_type": "stream",
     "text": [
      "Loss: \n",
      "0.04471871577980875\n",
      "# 1000\n",
      "\n",
      "Input (scaled): \n",
      "[[0.75       0.50314465]\n",
      " [0.5        0.33962264]\n",
      " [0.375      0.52830189]\n",
      " [1.         1.        ]\n",
      " [1.         0.95597484]]\n",
      "Actual Output: \n",
      "[[0.92105263]\n",
      " [1.        ]\n",
      " [0.93859649]\n",
      " [0.67982456]\n",
      " [0.66666667]]\n",
      "Predicted Output: \n",
      "[[0.99990974]\n",
      " [0.99945798]\n",
      " [0.9998933 ]\n",
      " [0.99999621]\n",
      " [0.99999483]]\n"
     ]
    }
   ],
   "source": [
    "NN = Neural_Network()\n",
    "\n",
    "for i in range(1001): #1000 epochs\n",
    "  \n",
    "  NN.train(X, y)\n",
    "\n",
    "#After 1000 epochs, loss and outputs     \n",
    "print(\"Loss: \\n\" + str(np.mean(np.square(y - NN.forward(X))))) # mean sum squared loss    \n",
    "print(\"# \" + str(i) + \"\\n\")\n",
    "print(\"Input (scaled): \\n\" + str(X))\n",
    "print(\"Actual Output: \\n\" + str(y))\n",
    "print(\"Predicted Output: \\n\" + str(NN.forward(X)))"
   ]
  },
  {
   "cell_type": "code",
   "execution_count": null,
   "metadata": {},
   "outputs": [],
   "source": []
  }
 ],
 "metadata": {
  "kernelspec": {
   "display_name": "Python 3",
   "language": "python",
   "name": "python3"
  },
  "language_info": {
   "codemirror_mode": {
    "name": "ipython",
    "version": 3
   },
   "file_extension": ".py",
   "mimetype": "text/x-python",
   "name": "python",
   "nbconvert_exporter": "python",
   "pygments_lexer": "ipython3",
   "version": "3.7.1"
  }
 },
 "nbformat": 4,
 "nbformat_minor": 2
}
